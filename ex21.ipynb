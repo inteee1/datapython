{
 "cells": [
  {
   "cell_type": "code",
   "execution_count": 3,
   "metadata": {},
   "outputs": [],
   "source": [
    "import numpy as np\n",
    "import pandas as pd\n",
    "import matplotlib.pyplot as plt\n",
    "\n"
   ]
  },
  {
   "cell_type": "code",
   "execution_count": 8,
   "metadata": {},
   "outputs": [],
   "source": [
    "scores = pd.read_csv('scores400.csv')\n",
    "scores = scores['score']\n",
    "np.random.seed(0)\n"
   ]
  },
  {
   "cell_type": "code",
   "execution_count": 10,
   "metadata": {},
   "outputs": [
    {
     "name": "stdout",
     "output_type": "stream",
     "text": [
      "74.15\n",
      "70.7\n",
      "71.9\n",
      "71.25\n",
      "67.4\n"
     ]
    },
    {
     "data": {
      "text/plain": [
       "71.08"
      ]
     },
     "execution_count": 10,
     "metadata": {},
     "output_type": "execute_result"
    }
   ],
   "source": [
    "sample_data = []\n",
    "for _ in range(5):\n",
    "    sample = np.random.choice(scores, 20, replace=True)\n",
    "    sample_data.append(sample)\n",
    "    print(sample.mean())\n",
    "np.mean(sample_data)"
   ]
  },
  {
   "cell_type": "code",
   "execution_count": 11,
   "metadata": {},
   "outputs": [],
   "source": [
    "dice = [1, 2, 3, 4, 5, 6]\n",
    "prob = [1/21, 2/21, 3/21, 4/21, 5/21, 6/21]"
   ]
  },
  {
   "cell_type": "code",
   "execution_count": 12,
   "metadata": {},
   "outputs": [
    {
     "data": {
      "text/plain": [
       "array([5, 4, 5, 1, 4, 5, 4, 5, 4, 2, 4, 5, 5, 5, 5, 5, 4, 6, 4, 4, 6, 6,\n",
       "       5, 2, 6, 5, 6, 3, 6, 3, 5, 2, 6, 6, 5, 4, 2, 5, 4, 6, 6, 6, 6, 1,\n",
       "       4, 6, 3, 5, 2, 3, 1, 6, 3, 4, 6, 5, 1, 3, 5, 5, 3, 6, 5, 5, 5, 6,\n",
       "       4, 4, 3, 3, 6, 6, 5, 3, 3, 2, 4, 4, 5, 4, 3, 1, 2, 5, 4, 5, 6, 6,\n",
       "       3, 5, 3, 1, 6, 4, 4, 5, 6, 5, 6, 3, 6, 3, 6, 5, 3, 6, 6, 3, 3, 5,\n",
       "       1, 3, 4, 4, 4, 3, 5, 6, 2, 5, 2, 6, 4, 5, 3, 3, 5, 4, 6, 6, 6, 6,\n",
       "       2, 5, 5, 6, 4, 3, 2, 1, 6, 5, 6, 3, 5, 2, 5, 6, 6, 4, 6, 3, 6, 6,\n",
       "       6, 5, 6, 4, 6, 5, 1, 4, 3, 6, 5, 5, 5, 4, 2, 6, 3, 5, 3, 2, 6, 6,\n",
       "       6, 6, 6, 4, 2, 4, 3, 2, 2, 6, 1, 6, 3, 2, 2, 5, 3, 4, 5, 6, 6, 3,\n",
       "       2, 2, 4, 3, 4, 5, 5, 3, 4, 3, 6, 2, 5, 6, 6, 3, 4, 5, 3, 4, 3, 4,\n",
       "       1, 6, 2, 5, 4, 5, 6, 5, 1, 4, 5, 5, 5, 3, 2, 4, 6, 3, 6, 5, 4, 6,\n",
       "       4, 6, 4, 6, 5, 5, 4, 6, 5, 3, 3, 6, 6, 4, 5, 6, 4, 6, 5, 6, 6, 6,\n",
       "       3, 5, 4, 2, 4, 3, 6, 1, 6, 4, 4, 1, 3, 4, 6, 2, 6, 6, 4, 4, 3, 5,\n",
       "       1, 1, 4, 2, 3, 3, 3, 2, 1, 2, 5, 6, 6, 4, 3, 5, 5, 6, 2, 6, 4, 3,\n",
       "       5, 3, 5, 5, 4, 5, 4, 5, 4, 4, 6, 6, 1, 3, 4, 6, 6, 6, 6, 4, 6, 3,\n",
       "       2, 6, 3, 5, 2, 6, 6, 3, 4, 4, 6, 3, 3, 4, 4, 6, 3, 5, 6, 5, 6, 6,\n",
       "       6, 5, 6, 6, 4, 2, 4, 3, 4, 2, 5, 4, 6, 6, 5, 3, 5, 6, 4, 5, 3, 4,\n",
       "       4, 3, 5, 4, 4, 5, 6, 4, 6, 6, 2, 3, 4, 2, 4, 6, 5, 5, 5, 3, 4, 5,\n",
       "       6, 5, 3, 1, 5, 1, 4, 5, 6, 2, 4, 1, 4, 5, 3, 3, 2, 5, 5, 5, 6, 1,\n",
       "       5, 5, 5, 6, 1, 5, 6, 5, 4, 6, 2, 4, 5, 5, 2, 3, 4, 5, 6, 5, 2, 6,\n",
       "       6, 5, 6, 5, 6, 6, 6, 6, 1, 3, 4, 6, 4, 3, 6, 4, 6, 3, 5, 4, 2, 5,\n",
       "       3, 1, 2, 2, 6, 6, 6, 5, 5, 4, 6, 4, 4, 4, 6, 3, 4, 5, 2, 5, 5, 3,\n",
       "       3, 5, 4, 4, 4, 6, 2, 2, 4, 5, 5, 4, 6, 4, 6, 5, 6, 6, 6, 6, 5, 4,\n",
       "       3, 2, 3, 4, 5, 6, 6, 2, 2, 5, 6, 6, 6, 6, 4, 4, 3, 5, 5, 6, 2, 5,\n",
       "       5, 3, 3, 6, 2, 4, 2, 4, 6, 4, 6, 2, 3, 4, 4, 5, 4, 5, 5, 4, 4, 5,\n",
       "       2, 6, 5, 6, 5, 2, 4, 4, 4, 1, 6, 2, 5, 5, 5, 6, 2, 6, 1, 5, 4, 5,\n",
       "       4, 3, 1, 5, 6, 4, 3, 2, 2, 3, 2, 3, 2, 2, 6, 3, 5, 6, 4, 3, 3, 4,\n",
       "       5, 4, 6, 6, 6, 1, 6, 4, 6, 5, 6, 6, 4, 5, 4, 4, 3, 5, 5, 3, 5, 2,\n",
       "       3, 1, 6, 1, 3, 5, 2, 6, 6, 6, 5, 4, 5, 6, 5, 3, 6, 4, 1, 3, 4, 6,\n",
       "       4, 4, 4, 6, 6, 6, 4, 6, 6, 5, 3, 3, 3, 6, 4, 4, 5, 6, 6, 2, 4, 6,\n",
       "       6, 2, 3, 4, 2, 4, 2, 5, 3, 5, 2, 6, 6, 4, 3, 3, 5, 1, 5, 4, 4, 6,\n",
       "       5, 6, 4, 6, 6, 4, 5, 4, 6, 2, 3, 3, 4, 6, 5, 5, 1, 4, 2, 3, 6, 3,\n",
       "       6, 6, 3, 5, 2, 6, 5, 6, 5, 6, 2, 4, 6, 4, 3, 2, 6, 4, 6, 6, 4, 4,\n",
       "       5, 6, 6, 1, 5, 6, 5, 3, 5, 2, 4, 6, 6, 3, 4, 5, 6, 3, 3, 6, 5, 6,\n",
       "       3, 5, 4, 4, 4, 4, 4, 6, 6, 6, 4, 5, 6, 6, 4, 6, 6, 2, 6, 4, 5, 4,\n",
       "       5, 5, 5, 6, 5, 4, 4, 6, 4, 3, 2, 6, 6, 2, 4, 3, 2, 6, 2, 6, 2, 6,\n",
       "       5, 4, 4, 6, 4, 5, 5, 5, 6, 5, 6, 6, 1, 6, 3, 6, 1, 4, 2, 4, 6, 4,\n",
       "       3, 4, 6, 2, 3, 2, 5, 4, 4, 6, 4, 6, 6, 3, 6, 3, 4, 3, 4, 5, 5, 6,\n",
       "       6, 3, 5, 2, 4, 4, 4, 5, 6, 2, 6, 6, 3, 6, 5, 6, 3, 5, 4, 4, 5, 6,\n",
       "       6, 6, 5, 6, 5, 6, 6, 3, 6, 1, 4, 3, 5, 6, 2, 5, 6, 3, 5, 5, 1, 4,\n",
       "       5, 1, 6, 5, 1, 3, 6, 5, 2, 4, 4, 1, 4, 5, 3, 5, 6, 3, 5, 5, 6, 6,\n",
       "       6, 5, 3, 6, 2, 4, 2, 6, 6, 6, 4, 3, 3, 2, 5, 2, 4, 5, 6, 1, 4, 5,\n",
       "       6, 4, 6, 3, 1, 5, 3, 6, 3, 4, 6, 6, 5, 5, 4, 1, 1, 5, 2, 2, 6, 6,\n",
       "       3, 1, 6, 3, 3, 5, 2, 3, 6, 5, 5, 4, 6, 2, 6, 6, 5, 1, 5, 6, 5, 4,\n",
       "       2, 6, 6, 2, 6, 1, 6, 5, 5, 4, 6, 3, 6, 6, 6, 5, 2, 4, 4, 3, 4, 4,\n",
       "       3, 4, 3, 5, 1, 6, 6, 5, 6, 6])"
      ]
     },
     "execution_count": 12,
     "metadata": {},
     "output_type": "execute_result"
    }
   ],
   "source": [
    "num_trial = 1000\n",
    "sample = np.random.choice(dice, num_trial, p=prob)\n",
    "sample"
   ]
  },
  {
   "cell_type": "code",
   "execution_count": 13,
   "metadata": {},
   "outputs": [
    {
     "data": {
      "text/plain": [
       "(array([0.    , 0.    , 0.    , 0.    , 0.    , 0.    , 0.    , 0.    ,\n",
       "        0.    , 0.    , 0.    , 0.    , 0.    , 0.    , 0.    , 0.    ,\n",
       "        0.    , 0.    , 0.    , 0.    , 0.    , 0.    , 0.    , 0.0025,\n",
       "        0.    , 0.    , 0.    , 0.    , 0.0025, 0.0025, 0.    , 0.0025,\n",
       "        0.    , 0.    , 0.0025, 0.    , 0.    , 0.    , 0.0025, 0.    ,\n",
       "        0.0025, 0.005 , 0.0075, 0.0075, 0.    , 0.0125, 0.0125, 0.0075,\n",
       "        0.005 , 0.015 , 0.01  , 0.    , 0.0225, 0.0025, 0.02  , 0.025 ,\n",
       "        0.02  , 0.025 , 0.02  , 0.0125, 0.015 , 0.0325, 0.015 , 0.035 ,\n",
       "        0.0225, 0.02  , 0.015 , 0.0325, 0.04  , 0.0275, 0.025 , 0.0175,\n",
       "        0.0225, 0.02  , 0.025 , 0.0175, 0.035 , 0.025 , 0.0325, 0.025 ,\n",
       "        0.025 , 0.02  , 0.0175, 0.0225, 0.0075, 0.015 , 0.0225, 0.0125,\n",
       "        0.005 , 0.0075, 0.0125, 0.02  , 0.015 , 0.01  , 0.0075, 0.    ,\n",
       "        0.0125, 0.005 , 0.0025, 0.0125]),\n",
       " array([  0.,   1.,   2.,   3.,   4.,   5.,   6.,   7.,   8.,   9.,  10.,\n",
       "         11.,  12.,  13.,  14.,  15.,  16.,  17.,  18.,  19.,  20.,  21.,\n",
       "         22.,  23.,  24.,  25.,  26.,  27.,  28.,  29.,  30.,  31.,  32.,\n",
       "         33.,  34.,  35.,  36.,  37.,  38.,  39.,  40.,  41.,  42.,  43.,\n",
       "         44.,  45.,  46.,  47.,  48.,  49.,  50.,  51.,  52.,  53.,  54.,\n",
       "         55.,  56.,  57.,  58.,  59.,  60.,  61.,  62.,  63.,  64.,  65.,\n",
       "         66.,  67.,  68.,  69.,  70.,  71.,  72.,  73.,  74.,  75.,  76.,\n",
       "         77.,  78.,  79.,  80.,  81.,  82.,  83.,  84.,  85.,  86.,  87.,\n",
       "         88.,  89.,  90.,  91.,  92.,  93.,  94.,  95.,  96.,  97.,  98.,\n",
       "         99., 100.]),\n",
       " <BarContainer object of 100 artists>)"
      ]
     },
     "execution_count": 13,
     "metadata": {},
     "output_type": "execute_result"
    },
    {
     "data": {
      "image/png": "[encoded data removed]",
      "text/plain": [
       "<Figure size 1000x600 with 1 Axes>"
      ]
     },
     "metadata": {},
     "output_type": "display_data"
    }
   ],
   "source": [
    "fig = plt.figure(figsize=(10, 6))\n",
    "ax = fig.add_subplot(111)\n",
    "ax.hist(scores, bins=100, range=(0,100), density=True)"
   ]
  },
  {
   "cell_type": "code",
   "execution_count": 14,
   "metadata": {},
   "outputs": [],
   "source": [
    "class Cat(object):\n",
    "    def __new__(self, *args, **kwargs):\n",
    "        print(\"\")\n",
    "    def __init__(self):#private\n",
    "        print(\"초기함수\")\n",
    "\n",
    "#class Cat()\n",
    "#{\n",
    "    # private:\n",
    "    #     int member1;\n",
    "    # public:\n",
    "    #     Cat()\n",
    "    #     {\n",
    "    #         this.member1 - 0;\n",
    "    #     }  \n",
    "#}\n"
   ]
  },
  {
   "cell_type": "code",
   "execution_count": 28,
   "metadata": {},
   "outputs": [
    {
     "name": "stdout",
     "output_type": "stream",
     "text": [
      "초기함수\n",
      "x_member : 100 : y_member :200\n",
      "100\n",
      "200\n"
     ]
    }
   ],
   "source": [
    "class Animal:\n",
    "    pass\n",
    "class Cat(Animal):\n",
    "    __x_member = 0 #private\n",
    "    __y_member = 0\n",
    "    member_x__ = 0 #public\n",
    "    member_y__ = 0\n",
    "    def __init__(self, x_member = 0, y_member = 0):\n",
    "        \n",
    "        print(\"초기함수\")\n",
    "        self.x_member = x_member\n",
    "        self.y_member = y_member\n",
    "    def __str__(self):\n",
    "        return(f'x_member : {self.x_member} : y_member :{self.y_member}')\n",
    "    def __call__(self):\n",
    "        pass\n",
    "        \n",
    "cat = Cat(x_member = 100, y_member = 200)\n",
    "print(cat)\n",
    "cat.member_x = 100\n",
    "cat.member_y = 200\n",
    "print(cat.member_x)\n",
    "print(cat.member_y)\n",
    "\n"
   ]
  },
  {
   "cell_type": "code",
   "execution_count": null,
   "metadata": {},
   "outputs": [],
   "source": []
  },
  {
   "cell_type": "code",
   "execution_count": null,
   "metadata": {},
   "outputs": [],
   "source": []
  }
 ],
 "metadata": {
  "kernelspec": {
   "display_name": "Python 3",
   "language": "python",
   "name": "python3"
  },
  "language_info": {
   "codemirror_mode": {
    "name": "ipython",
    "version": 3
   },
   "file_extension": ".py",
   "mimetype": "text/x-python",
   "name": "python",
   "nbconvert_exporter": "python",
   "pygments_lexer": "ipython3",
   "version": "3.11.3"
  },
  "orig_nbformat": 4
 },
 "nbformat": 4,
 "nbformat_minor": 2
}
